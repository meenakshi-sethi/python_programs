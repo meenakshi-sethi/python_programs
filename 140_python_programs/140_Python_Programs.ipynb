{
 "cells": [
  {
   "cell_type": "markdown",
   "id": "66269c35-f107-44e0-b12e-a32970998202",
   "metadata": {},
   "source": [
    "# 140 Python Program"
   ]
  },
  {
   "cell_type": "markdown",
   "id": "c2117e4b-0bf7-45e4-8b77-50169d0bc194",
   "metadata": {},
   "source": [
    "#### Problem: 14\n",
    "\n",
    "##### Write a Python Program to check Prime Number\n",
    "\n",
    "A prime no is a natural number greater than 1 that has no positive divisors other than 1 and itself."
   ]
  },
  {
   "cell_type": "code",
   "execution_count": 1,
   "id": "744b5945-1ea8-4778-a8da-8bf49126aa48",
   "metadata": {},
   "outputs": [
    {
     "name": "stdin",
     "output_type": "stream",
     "text": [
      "Enter a number:  3\n"
     ]
    },
    {
     "name": "stdout",
     "output_type": "stream",
     "text": [
      "Prime Number\n"
     ]
    }
   ],
   "source": [
    "num = int(input(\"Enter a number: \"))\n",
    "\n",
    "for i in range(2,num):\n",
    "    if num % i == 0:\n",
    "        print(\"Not a prime no\")\n",
    "        break\n",
    "else:\n",
    "    print(\"Prime Number\")"
   ]
  },
  {
   "cell_type": "code",
   "execution_count": null,
   "id": "8620f560-f679-49b4-8691-79a654b2da9a",
   "metadata": {},
   "outputs": [],
   "source": []
  },
  {
   "cell_type": "code",
   "execution_count": null,
   "id": "46713090-e330-423e-bd14-01d3e726c9d4",
   "metadata": {},
   "outputs": [],
   "source": []
  },
  {
   "cell_type": "code",
   "execution_count": null,
   "id": "28730493-bebd-4a54-a95a-8a3ec228440e",
   "metadata": {},
   "outputs": [],
   "source": []
  },
  {
   "cell_type": "code",
   "execution_count": null,
   "id": "86795db2-cdcb-4c4a-b783-c7b3703a437e",
   "metadata": {},
   "outputs": [],
   "source": []
  }
 ],
 "metadata": {
  "kernelspec": {
   "display_name": "Python 3 (ipykernel)",
   "language": "python",
   "name": "python3"
  },
  "language_info": {
   "codemirror_mode": {
    "name": "ipython",
    "version": 3
   },
   "file_extension": ".py",
   "mimetype": "text/x-python",
   "name": "python",
   "nbconvert_exporter": "python",
   "pygments_lexer": "ipython3",
   "version": "3.13.5"
  }
 },
 "nbformat": 4,
 "nbformat_minor": 5
}
